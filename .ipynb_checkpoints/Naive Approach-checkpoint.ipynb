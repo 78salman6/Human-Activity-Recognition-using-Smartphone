{
 "cells": [
  {
   "cell_type": "markdown",
   "metadata": {},
   "source": [
    "# Human Activity Recognition Using Smartphones"
   ]
  },
  {
   "cell_type": "markdown",
   "metadata": {},
   "source": [
    "## Importing Libraries"
   ]
  },
  {
   "cell_type": "code",
   "execution_count": 1,
   "metadata": {
    "collapsed": true
   },
   "outputs": [],
   "source": [
    "import pandas as pd\n",
    "import numpy as np\n",
    "from IPython.display import display\n",
    "import matplotlib.pyplot as plt\n",
    "%matplotlib inline"
   ]
  },
  {
   "cell_type": "markdown",
   "metadata": {},
   "source": [
    "## Reading train and test datasets"
   ]
  },
  {
   "cell_type": "code",
   "execution_count": 2,
   "metadata": {
    "scrolled": true
   },
   "outputs": [
    {
     "data": {
      "text/html": [
       "<div>\n",
       "<style>\n",
       "    .dataframe thead tr:only-child th {\n",
       "        text-align: right;\n",
       "    }\n",
       "\n",
       "    .dataframe thead th {\n",
       "        text-align: left;\n",
       "    }\n",
       "\n",
       "    .dataframe tbody tr th {\n",
       "        vertical-align: top;\n",
       "    }\n",
       "</style>\n",
       "<table border=\"1\" class=\"dataframe\">\n",
       "  <thead>\n",
       "    <tr style=\"text-align: right;\">\n",
       "      <th></th>\n",
       "      <th>tBodyAcc-mean()-X</th>\n",
       "      <th>tBodyAcc-mean()-Y</th>\n",
       "      <th>tBodyAcc-mean()-Z</th>\n",
       "      <th>tBodyAcc-std()-X</th>\n",
       "      <th>tBodyAcc-std()-Y</th>\n",
       "      <th>tBodyAcc-std()-Z</th>\n",
       "      <th>tBodyAcc-mad()-X</th>\n",
       "      <th>tBodyAcc-mad()-Y</th>\n",
       "      <th>tBodyAcc-mad()-Z</th>\n",
       "      <th>tBodyAcc-max()-X</th>\n",
       "      <th>...</th>\n",
       "      <th>fBodyBodyGyroJerkMag-kurtosis()</th>\n",
       "      <th>angle(tBodyAccMean,gravity)</th>\n",
       "      <th>angle(tBodyAccJerkMean),gravityMean)</th>\n",
       "      <th>angle(tBodyGyroMean,gravityMean)</th>\n",
       "      <th>angle(tBodyGyroJerkMean,gravityMean)</th>\n",
       "      <th>angle(X,gravityMean)</th>\n",
       "      <th>angle(Y,gravityMean)</th>\n",
       "      <th>angle(Z,gravityMean)</th>\n",
       "      <th>subject</th>\n",
       "      <th>Activity</th>\n",
       "    </tr>\n",
       "  </thead>\n",
       "  <tbody>\n",
       "    <tr>\n",
       "      <th>2948</th>\n",
       "      <td>0.280577</td>\n",
       "      <td>-0.019075</td>\n",
       "      <td>-0.108925</td>\n",
       "      <td>-0.990098</td>\n",
       "      <td>-0.940288</td>\n",
       "      <td>-0.970025</td>\n",
       "      <td>-0.991382</td>\n",
       "      <td>-0.934090</td>\n",
       "      <td>-0.966288</td>\n",
       "      <td>-0.921962</td>\n",
       "      <td>...</td>\n",
       "      <td>-0.745700</td>\n",
       "      <td>0.252295</td>\n",
       "      <td>0.141005</td>\n",
       "      <td>-0.108473</td>\n",
       "      <td>0.776666</td>\n",
       "      <td>0.302810</td>\n",
       "      <td>-0.227041</td>\n",
       "      <td>-0.722913</td>\n",
       "      <td>16</td>\n",
       "      <td>LAYING</td>\n",
       "    </tr>\n",
       "    <tr>\n",
       "      <th>1985</th>\n",
       "      <td>0.247470</td>\n",
       "      <td>-0.047274</td>\n",
       "      <td>-0.145256</td>\n",
       "      <td>-0.416532</td>\n",
       "      <td>-0.052237</td>\n",
       "      <td>-0.521678</td>\n",
       "      <td>-0.442892</td>\n",
       "      <td>-0.055177</td>\n",
       "      <td>-0.516036</td>\n",
       "      <td>-0.362674</td>\n",
       "      <td>...</td>\n",
       "      <td>-0.778921</td>\n",
       "      <td>0.164711</td>\n",
       "      <td>0.212857</td>\n",
       "      <td>-0.756518</td>\n",
       "      <td>-0.158159</td>\n",
       "      <td>-0.738673</td>\n",
       "      <td>0.230249</td>\n",
       "      <td>-0.109309</td>\n",
       "      <td>11</td>\n",
       "      <td>WALKING</td>\n",
       "    </tr>\n",
       "    <tr>\n",
       "      <th>2865</th>\n",
       "      <td>0.362601</td>\n",
       "      <td>-0.004455</td>\n",
       "      <td>-0.036326</td>\n",
       "      <td>-0.020696</td>\n",
       "      <td>-0.029823</td>\n",
       "      <td>-0.161643</td>\n",
       "      <td>-0.097043</td>\n",
       "      <td>0.010732</td>\n",
       "      <td>-0.115906</td>\n",
       "      <td>0.208748</td>\n",
       "      <td>...</td>\n",
       "      <td>-0.838066</td>\n",
       "      <td>-0.362449</td>\n",
       "      <td>0.508568</td>\n",
       "      <td>-0.975211</td>\n",
       "      <td>-0.493451</td>\n",
       "      <td>-0.683488</td>\n",
       "      <td>0.309936</td>\n",
       "      <td>-0.037207</td>\n",
       "      <td>15</td>\n",
       "      <td>WALKING_UPSTAIRS</td>\n",
       "    </tr>\n",
       "    <tr>\n",
       "      <th>6992</th>\n",
       "      <td>0.278892</td>\n",
       "      <td>-0.018043</td>\n",
       "      <td>-0.098066</td>\n",
       "      <td>-0.997725</td>\n",
       "      <td>-0.965240</td>\n",
       "      <td>-0.995022</td>\n",
       "      <td>-0.997764</td>\n",
       "      <td>-0.962630</td>\n",
       "      <td>-0.995205</td>\n",
       "      <td>-0.942735</td>\n",
       "      <td>...</td>\n",
       "      <td>-0.903964</td>\n",
       "      <td>-0.013647</td>\n",
       "      <td>-0.023932</td>\n",
       "      <td>0.886785</td>\n",
       "      <td>0.541021</td>\n",
       "      <td>-0.820148</td>\n",
       "      <td>0.212190</td>\n",
       "      <td>0.069219</td>\n",
       "      <td>30</td>\n",
       "      <td>STANDING</td>\n",
       "    </tr>\n",
       "    <tr>\n",
       "      <th>7101</th>\n",
       "      <td>0.378966</td>\n",
       "      <td>-0.000527</td>\n",
       "      <td>-0.203853</td>\n",
       "      <td>-0.184955</td>\n",
       "      <td>-0.142758</td>\n",
       "      <td>-0.344134</td>\n",
       "      <td>-0.213739</td>\n",
       "      <td>-0.255421</td>\n",
       "      <td>-0.310713</td>\n",
       "      <td>-0.007459</td>\n",
       "      <td>...</td>\n",
       "      <td>-0.638901</td>\n",
       "      <td>-0.338016</td>\n",
       "      <td>0.865583</td>\n",
       "      <td>0.853514</td>\n",
       "      <td>0.839211</td>\n",
       "      <td>-0.895912</td>\n",
       "      <td>0.170174</td>\n",
       "      <td>0.017783</td>\n",
       "      <td>30</td>\n",
       "      <td>WALKING_DOWNSTAIRS</td>\n",
       "    </tr>\n",
       "  </tbody>\n",
       "</table>\n",
       "<p>5 rows × 563 columns</p>\n",
       "</div>"
      ],
      "text/plain": [
       "      tBodyAcc-mean()-X  tBodyAcc-mean()-Y  tBodyAcc-mean()-Z  \\\n",
       "2948           0.280577          -0.019075          -0.108925   \n",
       "1985           0.247470          -0.047274          -0.145256   \n",
       "2865           0.362601          -0.004455          -0.036326   \n",
       "6992           0.278892          -0.018043          -0.098066   \n",
       "7101           0.378966          -0.000527          -0.203853   \n",
       "\n",
       "      tBodyAcc-std()-X  tBodyAcc-std()-Y  tBodyAcc-std()-Z  tBodyAcc-mad()-X  \\\n",
       "2948         -0.990098         -0.940288         -0.970025         -0.991382   \n",
       "1985         -0.416532         -0.052237         -0.521678         -0.442892   \n",
       "2865         -0.020696         -0.029823         -0.161643         -0.097043   \n",
       "6992         -0.997725         -0.965240         -0.995022         -0.997764   \n",
       "7101         -0.184955         -0.142758         -0.344134         -0.213739   \n",
       "\n",
       "      tBodyAcc-mad()-Y  tBodyAcc-mad()-Z  tBodyAcc-max()-X  \\\n",
       "2948         -0.934090         -0.966288         -0.921962   \n",
       "1985         -0.055177         -0.516036         -0.362674   \n",
       "2865          0.010732         -0.115906          0.208748   \n",
       "6992         -0.962630         -0.995205         -0.942735   \n",
       "7101         -0.255421         -0.310713         -0.007459   \n",
       "\n",
       "             ...          fBodyBodyGyroJerkMag-kurtosis()  \\\n",
       "2948         ...                                -0.745700   \n",
       "1985         ...                                -0.778921   \n",
       "2865         ...                                -0.838066   \n",
       "6992         ...                                -0.903964   \n",
       "7101         ...                                -0.638901   \n",
       "\n",
       "      angle(tBodyAccMean,gravity)  angle(tBodyAccJerkMean),gravityMean)  \\\n",
       "2948                     0.252295                              0.141005   \n",
       "1985                     0.164711                              0.212857   \n",
       "2865                    -0.362449                              0.508568   \n",
       "6992                    -0.013647                             -0.023932   \n",
       "7101                    -0.338016                              0.865583   \n",
       "\n",
       "      angle(tBodyGyroMean,gravityMean)  angle(tBodyGyroJerkMean,gravityMean)  \\\n",
       "2948                         -0.108473                              0.776666   \n",
       "1985                         -0.756518                             -0.158159   \n",
       "2865                         -0.975211                             -0.493451   \n",
       "6992                          0.886785                              0.541021   \n",
       "7101                          0.853514                              0.839211   \n",
       "\n",
       "      angle(X,gravityMean)  angle(Y,gravityMean)  angle(Z,gravityMean)  \\\n",
       "2948              0.302810             -0.227041             -0.722913   \n",
       "1985             -0.738673              0.230249             -0.109309   \n",
       "2865             -0.683488              0.309936             -0.037207   \n",
       "6992             -0.820148              0.212190              0.069219   \n",
       "7101             -0.895912              0.170174              0.017783   \n",
       "\n",
       "      subject            Activity  \n",
       "2948       16              LAYING  \n",
       "1985       11             WALKING  \n",
       "2865       15    WALKING_UPSTAIRS  \n",
       "6992       30            STANDING  \n",
       "7101       30  WALKING_DOWNSTAIRS  \n",
       "\n",
       "[5 rows x 563 columns]"
      ]
     },
     "metadata": {},
     "output_type": "display_data"
    },
    {
     "name": "stdout",
     "output_type": "stream",
     "text": [
      "(7352, 563)\n"
     ]
    },
    {
     "data": {
      "text/html": [
       "<div>\n",
       "<style>\n",
       "    .dataframe thead tr:only-child th {\n",
       "        text-align: right;\n",
       "    }\n",
       "\n",
       "    .dataframe thead th {\n",
       "        text-align: left;\n",
       "    }\n",
       "\n",
       "    .dataframe tbody tr th {\n",
       "        vertical-align: top;\n",
       "    }\n",
       "</style>\n",
       "<table border=\"1\" class=\"dataframe\">\n",
       "  <thead>\n",
       "    <tr style=\"text-align: right;\">\n",
       "      <th></th>\n",
       "      <th>tBodyAcc-mean()-X</th>\n",
       "      <th>tBodyAcc-mean()-Y</th>\n",
       "      <th>tBodyAcc-mean()-Z</th>\n",
       "      <th>tBodyAcc-std()-X</th>\n",
       "      <th>tBodyAcc-std()-Y</th>\n",
       "      <th>tBodyAcc-std()-Z</th>\n",
       "      <th>tBodyAcc-mad()-X</th>\n",
       "      <th>tBodyAcc-mad()-Y</th>\n",
       "      <th>tBodyAcc-mad()-Z</th>\n",
       "      <th>tBodyAcc-max()-X</th>\n",
       "      <th>...</th>\n",
       "      <th>fBodyBodyGyroJerkMag-kurtosis()</th>\n",
       "      <th>angle(tBodyAccMean,gravity)</th>\n",
       "      <th>angle(tBodyAccJerkMean),gravityMean)</th>\n",
       "      <th>angle(tBodyGyroMean,gravityMean)</th>\n",
       "      <th>angle(tBodyGyroJerkMean,gravityMean)</th>\n",
       "      <th>angle(X,gravityMean)</th>\n",
       "      <th>angle(Y,gravityMean)</th>\n",
       "      <th>angle(Z,gravityMean)</th>\n",
       "      <th>subject</th>\n",
       "      <th>Activity</th>\n",
       "    </tr>\n",
       "  </thead>\n",
       "  <tbody>\n",
       "    <tr>\n",
       "      <th>1819</th>\n",
       "      <td>0.216593</td>\n",
       "      <td>-0.041674</td>\n",
       "      <td>-0.130147</td>\n",
       "      <td>0.167305</td>\n",
       "      <td>0.302163</td>\n",
       "      <td>-0.304896</td>\n",
       "      <td>0.111833</td>\n",
       "      <td>0.224909</td>\n",
       "      <td>-0.415972</td>\n",
       "      <td>0.329113</td>\n",
       "      <td>...</td>\n",
       "      <td>-0.818427</td>\n",
       "      <td>0.357026</td>\n",
       "      <td>-0.343402</td>\n",
       "      <td>0.949290</td>\n",
       "      <td>0.064580</td>\n",
       "      <td>-0.807530</td>\n",
       "      <td>0.230014</td>\n",
       "      <td>-0.000379</td>\n",
       "      <td>13</td>\n",
       "      <td>WALKING_DOWNSTAIRS</td>\n",
       "    </tr>\n",
       "    <tr>\n",
       "      <th>723</th>\n",
       "      <td>0.195838</td>\n",
       "      <td>-0.010125</td>\n",
       "      <td>-0.109424</td>\n",
       "      <td>-0.459268</td>\n",
       "      <td>-0.263111</td>\n",
       "      <td>-0.402595</td>\n",
       "      <td>-0.557896</td>\n",
       "      <td>-0.188874</td>\n",
       "      <td>-0.376762</td>\n",
       "      <td>-0.021879</td>\n",
       "      <td>...</td>\n",
       "      <td>-0.513359</td>\n",
       "      <td>0.893742</td>\n",
       "      <td>-0.286999</td>\n",
       "      <td>0.959302</td>\n",
       "      <td>-0.511014</td>\n",
       "      <td>-0.878063</td>\n",
       "      <td>0.146438</td>\n",
       "      <td>0.090590</td>\n",
       "      <td>9</td>\n",
       "      <td>WALKING_UPSTAIRS</td>\n",
       "    </tr>\n",
       "    <tr>\n",
       "      <th>868</th>\n",
       "      <td>0.174624</td>\n",
       "      <td>-0.023687</td>\n",
       "      <td>-0.127852</td>\n",
       "      <td>0.133868</td>\n",
       "      <td>-0.216917</td>\n",
       "      <td>0.268587</td>\n",
       "      <td>0.007173</td>\n",
       "      <td>-0.275324</td>\n",
       "      <td>0.190467</td>\n",
       "      <td>0.525293</td>\n",
       "      <td>...</td>\n",
       "      <td>-0.456609</td>\n",
       "      <td>0.707162</td>\n",
       "      <td>-0.694039</td>\n",
       "      <td>-0.757886</td>\n",
       "      <td>-0.450169</td>\n",
       "      <td>-0.834680</td>\n",
       "      <td>0.084675</td>\n",
       "      <td>0.137952</td>\n",
       "      <td>9</td>\n",
       "      <td>WALKING_DOWNSTAIRS</td>\n",
       "    </tr>\n",
       "    <tr>\n",
       "      <th>591</th>\n",
       "      <td>0.269379</td>\n",
       "      <td>-0.037453</td>\n",
       "      <td>-0.102167</td>\n",
       "      <td>0.136295</td>\n",
       "      <td>-0.134996</td>\n",
       "      <td>-0.445638</td>\n",
       "      <td>0.068033</td>\n",
       "      <td>-0.190519</td>\n",
       "      <td>-0.475488</td>\n",
       "      <td>0.359865</td>\n",
       "      <td>...</td>\n",
       "      <td>-0.984193</td>\n",
       "      <td>0.079764</td>\n",
       "      <td>0.550523</td>\n",
       "      <td>0.919073</td>\n",
       "      <td>0.595812</td>\n",
       "      <td>-0.873063</td>\n",
       "      <td>0.107086</td>\n",
       "      <td>-0.074685</td>\n",
       "      <td>4</td>\n",
       "      <td>WALKING_DOWNSTAIRS</td>\n",
       "    </tr>\n",
       "    <tr>\n",
       "      <th>2267</th>\n",
       "      <td>0.276054</td>\n",
       "      <td>-0.015739</td>\n",
       "      <td>-0.108058</td>\n",
       "      <td>-0.997684</td>\n",
       "      <td>-0.994767</td>\n",
       "      <td>-0.991306</td>\n",
       "      <td>-0.998274</td>\n",
       "      <td>-0.993481</td>\n",
       "      <td>-0.991073</td>\n",
       "      <td>-0.941740</td>\n",
       "      <td>...</td>\n",
       "      <td>-0.898185</td>\n",
       "      <td>0.104284</td>\n",
       "      <td>0.066120</td>\n",
       "      <td>-0.069277</td>\n",
       "      <td>0.277116</td>\n",
       "      <td>-0.600329</td>\n",
       "      <td>-0.037652</td>\n",
       "      <td>-0.232059</td>\n",
       "      <td>20</td>\n",
       "      <td>SITTING</td>\n",
       "    </tr>\n",
       "  </tbody>\n",
       "</table>\n",
       "<p>5 rows × 563 columns</p>\n",
       "</div>"
      ],
      "text/plain": [
       "      tBodyAcc-mean()-X  tBodyAcc-mean()-Y  tBodyAcc-mean()-Z  \\\n",
       "1819           0.216593          -0.041674          -0.130147   \n",
       "723            0.195838          -0.010125          -0.109424   \n",
       "868            0.174624          -0.023687          -0.127852   \n",
       "591            0.269379          -0.037453          -0.102167   \n",
       "2267           0.276054          -0.015739          -0.108058   \n",
       "\n",
       "      tBodyAcc-std()-X  tBodyAcc-std()-Y  tBodyAcc-std()-Z  tBodyAcc-mad()-X  \\\n",
       "1819          0.167305          0.302163         -0.304896          0.111833   \n",
       "723          -0.459268         -0.263111         -0.402595         -0.557896   \n",
       "868           0.133868         -0.216917          0.268587          0.007173   \n",
       "591           0.136295         -0.134996         -0.445638          0.068033   \n",
       "2267         -0.997684         -0.994767         -0.991306         -0.998274   \n",
       "\n",
       "      tBodyAcc-mad()-Y  tBodyAcc-mad()-Z  tBodyAcc-max()-X  \\\n",
       "1819          0.224909         -0.415972          0.329113   \n",
       "723          -0.188874         -0.376762         -0.021879   \n",
       "868          -0.275324          0.190467          0.525293   \n",
       "591          -0.190519         -0.475488          0.359865   \n",
       "2267         -0.993481         -0.991073         -0.941740   \n",
       "\n",
       "             ...          fBodyBodyGyroJerkMag-kurtosis()  \\\n",
       "1819         ...                                -0.818427   \n",
       "723          ...                                -0.513359   \n",
       "868          ...                                -0.456609   \n",
       "591          ...                                -0.984193   \n",
       "2267         ...                                -0.898185   \n",
       "\n",
       "      angle(tBodyAccMean,gravity)  angle(tBodyAccJerkMean),gravityMean)  \\\n",
       "1819                     0.357026                             -0.343402   \n",
       "723                      0.893742                             -0.286999   \n",
       "868                      0.707162                             -0.694039   \n",
       "591                      0.079764                              0.550523   \n",
       "2267                     0.104284                              0.066120   \n",
       "\n",
       "      angle(tBodyGyroMean,gravityMean)  angle(tBodyGyroJerkMean,gravityMean)  \\\n",
       "1819                          0.949290                              0.064580   \n",
       "723                           0.959302                             -0.511014   \n",
       "868                          -0.757886                             -0.450169   \n",
       "591                           0.919073                              0.595812   \n",
       "2267                         -0.069277                              0.277116   \n",
       "\n",
       "      angle(X,gravityMean)  angle(Y,gravityMean)  angle(Z,gravityMean)  \\\n",
       "1819             -0.807530              0.230014             -0.000379   \n",
       "723              -0.878063              0.146438              0.090590   \n",
       "868              -0.834680              0.084675              0.137952   \n",
       "591              -0.873063              0.107086             -0.074685   \n",
       "2267             -0.600329             -0.037652             -0.232059   \n",
       "\n",
       "      subject            Activity  \n",
       "1819       13  WALKING_DOWNSTAIRS  \n",
       "723         9    WALKING_UPSTAIRS  \n",
       "868         9  WALKING_DOWNSTAIRS  \n",
       "591         4  WALKING_DOWNSTAIRS  \n",
       "2267       20             SITTING  \n",
       "\n",
       "[5 rows x 563 columns]"
      ]
     },
     "metadata": {},
     "output_type": "display_data"
    },
    {
     "name": "stdout",
     "output_type": "stream",
     "text": [
      "(2947, 563)\n"
     ]
    }
   ],
   "source": [
    "from sklearn.utils import shuffle\n",
    "\n",
    "train = pd.read_csv(\"train.csv\")\n",
    "test = pd.read_csv(\"test.csv\")\n",
    "\n",
    "train = shuffle(train)\n",
    "test = shuffle(test)\n",
    "\n",
    "display(train.head())\n",
    "print (train.shape)\n",
    "\n",
    "display(test.head())\n",
    "print (test.shape)"
   ]
  },
  {
   "cell_type": "markdown",
   "metadata": {},
   "source": [
    "## Separating target variables from the dataset"
   ]
  },
  {
   "cell_type": "code",
   "execution_count": 3,
   "metadata": {},
   "outputs": [
    {
     "name": "stdout",
     "output_type": "stream",
     "text": [
      "Training data consists of 7352 instances of data with 561 total features\n",
      "Training data includes value counts of\n",
      " LAYING                1407\n",
      "STANDING              1374\n",
      "SITTING               1286\n",
      "WALKING               1226\n",
      "WALKING_UPSTAIRS      1073\n",
      "WALKING_DOWNSTAIRS     986\n",
      "Name: Activity, dtype: int64\n",
      "Testing data consists of 2947 instances of data\n",
      "Testing data includes value counts of\n",
      " LAYING                537\n",
      "STANDING              532\n",
      "WALKING               496\n",
      "SITTING               491\n",
      "WALKING_UPSTAIRS      471\n",
      "WALKING_DOWNSTAIRS    420\n",
      "Name: Activity, dtype: int64\n"
     ]
    }
   ],
   "source": [
    "# Separate subject information\n",
    "subject_training_data = train['subject']\n",
    "subject_testing_data = test['subject']\n",
    "\n",
    "# Separate labels\n",
    "training_labels = train['Activity']\n",
    "testing_labels = test['Activity']\n",
    "\n",
    "# Drop labels and subject info from data\n",
    "train = train.drop(['subject', 'Activity'], axis=1)\n",
    "test = test.drop(['subject', 'Activity'], axis=1)\n",
    "\n",
    "# Print some information about our data\n",
    "print(\"Training data consists of {} instances of data with {} total features\".format(train.shape[0], train.shape[1]))\n",
    "print(\"Training data includes value counts of\\n\", training_labels.value_counts())\n",
    "print(\"Testing data consists of {} instances of data\".format(test.shape[0]))\n",
    "print(\"Testing data includes value counts of\\n\", testing_labels.value_counts())"
   ]
  },
  {
   "cell_type": "code",
   "execution_count": 8,
   "metadata": {},
   "outputs": [
    {
     "name": "stdout",
     "output_type": "stream",
     "text": [
      "2948                LAYING\n",
      "1985               WALKING\n",
      "2865      WALKING_UPSTAIRS\n",
      "6992              STANDING\n",
      "7101    WALKING_DOWNSTAIRS\n",
      "Name: Activity, dtype: object\n",
      "[0 3 5 ..., 0 2 1]\n",
      "1819    WALKING_DOWNSTAIRS\n",
      "723       WALKING_UPSTAIRS\n",
      "868     WALKING_DOWNSTAIRS\n",
      "591     WALKING_DOWNSTAIRS\n",
      "2267               SITTING\n",
      "Name: Activity, dtype: object\n",
      "[4 5 4 ..., 3 3 5]\n"
     ]
    }
   ],
   "source": [
    "from sklearn.preprocessing import LabelEncoder\n",
    "\n",
    "# Encode our categorical labels into numerical target labels\n",
    "le = LabelEncoder()\n",
    "le = le.fit([\"WALKING\", \"WALKING_UPSTAIRS\", \"WALKING_DOWNSTAIRS\", \"SITTING\", \"STANDING\", \"LAYING\"])\n",
    "enc_training_labels = le.transform(training_labels)\n",
    "enc_testing_labels = le.transform(testing_labels)\n",
    "print(training_labels.head())\n",
    "print(enc_training_labels)\n",
    "print(testing_labels.head())\n",
    "print(enc_testing_labels)"
   ]
  },
  {
   "cell_type": "markdown",
   "metadata": {},
   "source": [
    "## Importing Classifiers"
   ]
  },
  {
   "cell_type": "code",
   "execution_count": 21,
   "metadata": {
    "collapsed": true
   },
   "outputs": [],
   "source": [
    "from sklearn.model_selection import cross_val_score\n",
    "from sklearn.neighbors import KNeighborsClassifier \n",
    "from sklearn.svm import SVC\n",
    "from sklearn.linear_model import LogisticRegression\n",
    "from sklearn.metrics import accuracy_score\n",
    "\n",
    "kn = KNeighborsClassifier()\n",
    "sv = SVC()\n",
    "lr = LogisticRegression()"
   ]
  },
  {
   "cell_type": "markdown",
   "metadata": {},
   "source": [
    "## Training KNN Classifier"
   ]
  },
  {
   "cell_type": "code",
   "execution_count": 22,
   "metadata": {},
   "outputs": [
    {
     "name": "stdout",
     "output_type": "stream",
     "text": [
      "K Nearest Neighbors Test Accuracy : 0.9002375296912114\n"
     ]
    }
   ],
   "source": [
    "kn.fit(train,enc_training_labels)\n",
    "kn_pred = kn.predict(test)\n",
    "print (\"K Nearest Neighbors Test Accuracy : {}\".format(accuracy_score(enc_testing_labels,kn_pred)))"
   ]
  },
  {
   "cell_type": "markdown",
   "metadata": {},
   "source": [
    "## Training SVM Classifier"
   ]
  },
  {
   "cell_type": "code",
   "execution_count": 23,
   "metadata": {},
   "outputs": [
    {
     "name": "stdout",
     "output_type": "stream",
     "text": [
      "Support Vector Machine Test Accuracy : 0.9402782490668476\n"
     ]
    }
   ],
   "source": [
    "sv.fit(train,enc_training_labels)\n",
    "sv_pred = sv.predict(test)\n",
    "print (\"Support Vector Machine Test Accuracy : {}\".format(accuracy_score(enc_testing_labels,sv_pred)))"
   ]
  },
  {
   "cell_type": "markdown",
   "metadata": {},
   "source": [
    "## Training Logistic Regression Classifier"
   ]
  },
  {
   "cell_type": "code",
   "execution_count": 24,
   "metadata": {},
   "outputs": [
    {
     "name": "stdout",
     "output_type": "stream",
     "text": [
      "Logistic Regression Test Accuracy : 0.9619952494061758\n"
     ]
    }
   ],
   "source": [
    "lr.fit(train,enc_training_labels)\n",
    "lr_pred = lr.predict(test)\n",
    "print (\"Logistic Regression Test Accuracy : {}\".format(accuracy_score(enc_testing_labels,lr_pred)))"
   ]
  },
  {
   "cell_type": "markdown",
   "metadata": {},
   "source": [
    "## Evaluating using cross_val_score"
   ]
  },
  {
   "cell_type": "code",
   "execution_count": 25,
   "metadata": {},
   "outputs": [
    {
     "name": "stdout",
     "output_type": "stream",
     "text": [
      "K Neighbors Training performances: [ 0.95880914  0.96574225  0.96323529], \n",
      "Average: 0.9625955602469373\n",
      "Support Vector Machine Training performances: [ 0.93107667  0.94535073  0.94362745], \n",
      "Average: 0.9400182857264712\n",
      "Logistic Regression Training performances: [ 0.98164763  0.98858075  0.98120915], \n",
      "Average: 0.9838125117728803\n"
     ]
    }
   ],
   "source": [
    "def evalClfTrain(clf):\n",
    "    scores = cross_val_score(clf, train, enc_training_labels)\n",
    "    avg = scores.mean()\n",
    "    return \"Training performances: {}, \\nAverage: {}\".format(scores, avg)\n",
    "\n",
    "print (\"K Neighbors {}\".format(evalClfTrain(kn)))\n",
    "print (\"Support Vector Machine {}\".format(evalClfTrain(sv)))\n",
    "print (\"Logistic Regression {}\".format(evalClfTrain(lr)))"
   ]
  },
  {
   "cell_type": "markdown",
   "metadata": {},
   "source": [
    "## Profiling"
   ]
  },
  {
   "cell_type": "code",
   "execution_count": 27,
   "metadata": {
    "collapsed": true
   },
   "outputs": [],
   "source": [
    "import pandas_profiling as prof"
   ]
  },
  {
   "cell_type": "code",
   "execution_count": 28,
   "metadata": {
    "collapsed": true
   },
   "outputs": [],
   "source": [
    "data_profile = prof.ProfileReport(train)\n",
    "data_profile.to_file('train_profile.html')"
   ]
  },
  {
   "cell_type": "code",
   "execution_count": null,
   "metadata": {
    "collapsed": true
   },
   "outputs": [],
   "source": []
  }
 ],
 "metadata": {
  "kernelspec": {
   "display_name": "Python 2",
   "language": "python",
   "name": "python2"
  },
  "language_info": {
   "codemirror_mode": {
    "name": "ipython",
    "version": 2
   },
   "file_extension": ".py",
   "mimetype": "text/x-python",
   "name": "python",
   "nbconvert_exporter": "python",
   "pygments_lexer": "ipython2",
   "version": "2.7.14"
  }
 },
 "nbformat": 4,
 "nbformat_minor": 2
}
