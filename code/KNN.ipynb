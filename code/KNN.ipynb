{
 "cells": [
  {
   "cell_type": "code",
   "execution_count": 1,
   "metadata": {
    "collapsed": true
   },
   "outputs": [],
   "source": [
    "import numpy as np\n",
    "import pandas as pd\n",
    "import seaborn as sns\n",
    "import matplotlib.pyplot as plt\n",
    "\n",
    "%matplotlib inline"
   ]
  },
  {
   "cell_type": "code",
   "execution_count": 2,
   "metadata": {
    "collapsed": true
   },
   "outputs": [],
   "source": [
    "from sklearn.neighbors import KNeighborsClassifier\n",
    "from sklearn.metrics import accuracy_score"
   ]
  },
  {
   "cell_type": "code",
   "execution_count": 3,
   "metadata": {},
   "outputs": [
    {
     "name": "stdout",
     "output_type": "stream",
     "text": [
      "(7352, 563) (2947, 563)\n"
     ]
    }
   ],
   "source": [
    "train = pd.read_csv('../train.csv')\n",
    "test = pd.read_csv('../test.csv')\n",
    "print(train.shape,test.shape)"
   ]
  },
  {
   "cell_type": "code",
   "execution_count": 4,
   "metadata": {},
   "outputs": [
    {
     "data": {
      "text/plain": [
       "KNeighborsClassifier(algorithm='auto', leaf_size=30, metric='minkowski',\n",
       "           metric_params=None, n_jobs=1, n_neighbors=5, p=2,\n",
       "           weights='uniform')"
      ]
     },
     "execution_count": 4,
     "metadata": {},
     "output_type": "execute_result"
    }
   ],
   "source": [
    "knn = KNeighborsClassifier()\n",
    "knn"
   ]
  },
  {
   "cell_type": "code",
   "execution_count": 5,
   "metadata": {},
   "outputs": [
    {
     "data": {
      "text/html": [
       "<div>\n",
       "<style>\n",
       "    .dataframe thead tr:only-child th {\n",
       "        text-align: right;\n",
       "    }\n",
       "\n",
       "    .dataframe thead th {\n",
       "        text-align: left;\n",
       "    }\n",
       "\n",
       "    .dataframe tbody tr th {\n",
       "        vertical-align: top;\n",
       "    }\n",
       "</style>\n",
       "<table border=\"1\" class=\"dataframe\">\n",
       "  <thead>\n",
       "    <tr style=\"text-align: right;\">\n",
       "      <th></th>\n",
       "      <th>tBodyAcc-mean()-X</th>\n",
       "      <th>tBodyAcc-mean()-Y</th>\n",
       "      <th>tBodyAcc-mean()-Z</th>\n",
       "      <th>tBodyAcc-std()-X</th>\n",
       "      <th>tBodyAcc-std()-Y</th>\n",
       "      <th>tBodyAcc-std()-Z</th>\n",
       "      <th>tBodyAcc-mad()-X</th>\n",
       "      <th>tBodyAcc-mad()-Y</th>\n",
       "      <th>tBodyAcc-mad()-Z</th>\n",
       "      <th>tBodyAcc-max()-X</th>\n",
       "      <th>...</th>\n",
       "      <th>fBodyBodyGyroJerkMag-kurtosis()</th>\n",
       "      <th>angle(tBodyAccMean,gravity)</th>\n",
       "      <th>angle(tBodyAccJerkMean),gravityMean)</th>\n",
       "      <th>angle(tBodyGyroMean,gravityMean)</th>\n",
       "      <th>angle(tBodyGyroJerkMean,gravityMean)</th>\n",
       "      <th>angle(X,gravityMean)</th>\n",
       "      <th>angle(Y,gravityMean)</th>\n",
       "      <th>angle(Z,gravityMean)</th>\n",
       "      <th>subject</th>\n",
       "      <th>Activity</th>\n",
       "    </tr>\n",
       "  </thead>\n",
       "  <tbody>\n",
       "    <tr>\n",
       "      <th>0</th>\n",
       "      <td>0.288585</td>\n",
       "      <td>-0.020294</td>\n",
       "      <td>-0.132905</td>\n",
       "      <td>-0.995279</td>\n",
       "      <td>-0.983111</td>\n",
       "      <td>-0.913526</td>\n",
       "      <td>-0.995112</td>\n",
       "      <td>-0.983185</td>\n",
       "      <td>-0.923527</td>\n",
       "      <td>-0.934724</td>\n",
       "      <td>...</td>\n",
       "      <td>-0.710304</td>\n",
       "      <td>-0.112754</td>\n",
       "      <td>0.030400</td>\n",
       "      <td>-0.464761</td>\n",
       "      <td>-0.018446</td>\n",
       "      <td>-0.841247</td>\n",
       "      <td>0.179941</td>\n",
       "      <td>-0.058627</td>\n",
       "      <td>1</td>\n",
       "      <td>STANDING</td>\n",
       "    </tr>\n",
       "    <tr>\n",
       "      <th>1</th>\n",
       "      <td>0.278419</td>\n",
       "      <td>-0.016411</td>\n",
       "      <td>-0.123520</td>\n",
       "      <td>-0.998245</td>\n",
       "      <td>-0.975300</td>\n",
       "      <td>-0.960322</td>\n",
       "      <td>-0.998807</td>\n",
       "      <td>-0.974914</td>\n",
       "      <td>-0.957686</td>\n",
       "      <td>-0.943068</td>\n",
       "      <td>...</td>\n",
       "      <td>-0.861499</td>\n",
       "      <td>0.053477</td>\n",
       "      <td>-0.007435</td>\n",
       "      <td>-0.732626</td>\n",
       "      <td>0.703511</td>\n",
       "      <td>-0.844788</td>\n",
       "      <td>0.180289</td>\n",
       "      <td>-0.054317</td>\n",
       "      <td>1</td>\n",
       "      <td>STANDING</td>\n",
       "    </tr>\n",
       "    <tr>\n",
       "      <th>2</th>\n",
       "      <td>0.279653</td>\n",
       "      <td>-0.019467</td>\n",
       "      <td>-0.113462</td>\n",
       "      <td>-0.995380</td>\n",
       "      <td>-0.967187</td>\n",
       "      <td>-0.978944</td>\n",
       "      <td>-0.996520</td>\n",
       "      <td>-0.963668</td>\n",
       "      <td>-0.977469</td>\n",
       "      <td>-0.938692</td>\n",
       "      <td>...</td>\n",
       "      <td>-0.760104</td>\n",
       "      <td>-0.118559</td>\n",
       "      <td>0.177899</td>\n",
       "      <td>0.100699</td>\n",
       "      <td>0.808529</td>\n",
       "      <td>-0.848933</td>\n",
       "      <td>0.180637</td>\n",
       "      <td>-0.049118</td>\n",
       "      <td>1</td>\n",
       "      <td>STANDING</td>\n",
       "    </tr>\n",
       "    <tr>\n",
       "      <th>3</th>\n",
       "      <td>0.279174</td>\n",
       "      <td>-0.026201</td>\n",
       "      <td>-0.123283</td>\n",
       "      <td>-0.996091</td>\n",
       "      <td>-0.983403</td>\n",
       "      <td>-0.990675</td>\n",
       "      <td>-0.997099</td>\n",
       "      <td>-0.982750</td>\n",
       "      <td>-0.989302</td>\n",
       "      <td>-0.938692</td>\n",
       "      <td>...</td>\n",
       "      <td>-0.482845</td>\n",
       "      <td>-0.036788</td>\n",
       "      <td>-0.012892</td>\n",
       "      <td>0.640011</td>\n",
       "      <td>-0.485366</td>\n",
       "      <td>-0.848649</td>\n",
       "      <td>0.181935</td>\n",
       "      <td>-0.047663</td>\n",
       "      <td>1</td>\n",
       "      <td>STANDING</td>\n",
       "    </tr>\n",
       "    <tr>\n",
       "      <th>4</th>\n",
       "      <td>0.276629</td>\n",
       "      <td>-0.016570</td>\n",
       "      <td>-0.115362</td>\n",
       "      <td>-0.998139</td>\n",
       "      <td>-0.980817</td>\n",
       "      <td>-0.990482</td>\n",
       "      <td>-0.998321</td>\n",
       "      <td>-0.979672</td>\n",
       "      <td>-0.990441</td>\n",
       "      <td>-0.942469</td>\n",
       "      <td>...</td>\n",
       "      <td>-0.699205</td>\n",
       "      <td>0.123320</td>\n",
       "      <td>0.122542</td>\n",
       "      <td>0.693578</td>\n",
       "      <td>-0.615971</td>\n",
       "      <td>-0.847865</td>\n",
       "      <td>0.185151</td>\n",
       "      <td>-0.043892</td>\n",
       "      <td>1</td>\n",
       "      <td>STANDING</td>\n",
       "    </tr>\n",
       "  </tbody>\n",
       "</table>\n",
       "<p>5 rows × 563 columns</p>\n",
       "</div>"
      ],
      "text/plain": [
       "   tBodyAcc-mean()-X  tBodyAcc-mean()-Y  tBodyAcc-mean()-Z  tBodyAcc-std()-X  \\\n",
       "0           0.288585          -0.020294          -0.132905         -0.995279   \n",
       "1           0.278419          -0.016411          -0.123520         -0.998245   \n",
       "2           0.279653          -0.019467          -0.113462         -0.995380   \n",
       "3           0.279174          -0.026201          -0.123283         -0.996091   \n",
       "4           0.276629          -0.016570          -0.115362         -0.998139   \n",
       "\n",
       "   tBodyAcc-std()-Y  tBodyAcc-std()-Z  tBodyAcc-mad()-X  tBodyAcc-mad()-Y  \\\n",
       "0         -0.983111         -0.913526         -0.995112         -0.983185   \n",
       "1         -0.975300         -0.960322         -0.998807         -0.974914   \n",
       "2         -0.967187         -0.978944         -0.996520         -0.963668   \n",
       "3         -0.983403         -0.990675         -0.997099         -0.982750   \n",
       "4         -0.980817         -0.990482         -0.998321         -0.979672   \n",
       "\n",
       "   tBodyAcc-mad()-Z  tBodyAcc-max()-X    ...     \\\n",
       "0         -0.923527         -0.934724    ...      \n",
       "1         -0.957686         -0.943068    ...      \n",
       "2         -0.977469         -0.938692    ...      \n",
       "3         -0.989302         -0.938692    ...      \n",
       "4         -0.990441         -0.942469    ...      \n",
       "\n",
       "   fBodyBodyGyroJerkMag-kurtosis()  angle(tBodyAccMean,gravity)  \\\n",
       "0                        -0.710304                    -0.112754   \n",
       "1                        -0.861499                     0.053477   \n",
       "2                        -0.760104                    -0.118559   \n",
       "3                        -0.482845                    -0.036788   \n",
       "4                        -0.699205                     0.123320   \n",
       "\n",
       "   angle(tBodyAccJerkMean),gravityMean)  angle(tBodyGyroMean,gravityMean)  \\\n",
       "0                              0.030400                         -0.464761   \n",
       "1                             -0.007435                         -0.732626   \n",
       "2                              0.177899                          0.100699   \n",
       "3                             -0.012892                          0.640011   \n",
       "4                              0.122542                          0.693578   \n",
       "\n",
       "   angle(tBodyGyroJerkMean,gravityMean)  angle(X,gravityMean)  \\\n",
       "0                             -0.018446             -0.841247   \n",
       "1                              0.703511             -0.844788   \n",
       "2                              0.808529             -0.848933   \n",
       "3                             -0.485366             -0.848649   \n",
       "4                             -0.615971             -0.847865   \n",
       "\n",
       "   angle(Y,gravityMean)  angle(Z,gravityMean)  subject  Activity  \n",
       "0              0.179941             -0.058627        1  STANDING  \n",
       "1              0.180289             -0.054317        1  STANDING  \n",
       "2              0.180637             -0.049118        1  STANDING  \n",
       "3              0.181935             -0.047663        1  STANDING  \n",
       "4              0.185151             -0.043892        1  STANDING  \n",
       "\n",
       "[5 rows x 563 columns]"
      ]
     },
     "execution_count": 5,
     "metadata": {},
     "output_type": "execute_result"
    }
   ],
   "source": [
    "train.head()"
   ]
  },
  {
   "cell_type": "code",
   "execution_count": 6,
   "metadata": {
    "collapsed": true
   },
   "outputs": [],
   "source": [
    "from sklearn.preprocessing import LabelEncoder\n",
    "\n",
    "X_train = train.iloc[:,:-2]\n",
    "Y_train = train['Activity']\n",
    "le = LabelEncoder()\n",
    "le.fit(['STANDING', 'SITTING', 'LAYING', 'WALKING', 'WALKING_DOWNSTAIRS','WALKING_UPSTAIRS'] )\n",
    "Y_train_encoded = le.transform(Y_train)"
   ]
  },
  {
   "cell_type": "code",
   "execution_count": 7,
   "metadata": {
    "collapsed": true
   },
   "outputs": [],
   "source": [
    "X_test = test.iloc[:,:-2]\n",
    "Y_test = test['Activity']\n",
    "Y_test_encoded = le.transform(Y_test)"
   ]
  },
  {
   "cell_type": "markdown",
   "metadata": {},
   "source": [
    "## Training model using all features"
   ]
  },
  {
   "cell_type": "code",
   "execution_count": 8,
   "metadata": {},
   "outputs": [
    {
     "name": "stdout",
     "output_type": "stream",
     "text": [
      "K Nearest Neighbors Train Accuracy : 0.984221980413493\n",
      "K Nearest Neighbors Test Accuracy : 0.9002375296912114\n"
     ]
    }
   ],
   "source": [
    "knn.fit(X_train,Y_train_encoded)\n",
    "print (\"K Nearest Neighbors Train Accuracy : {}\".format(accuracy_score(Y_train_encoded,knn.predict(X_train))))\n",
    "print (\"K Nearest Neighbors Test Accuracy : {}\".format(accuracy_score(Y_test_encoded,knn.predict(X_test))))"
   ]
  },
  {
   "cell_type": "markdown",
   "metadata": {},
   "source": [
    "## Selecting no. of neighbors"
   ]
  },
  {
   "cell_type": "code",
   "execution_count": 9,
   "metadata": {
    "collapsed": true
   },
   "outputs": [],
   "source": [
    "test_scores = []\n",
    "for i in range(1,20):\n",
    "    kn = KNeighborsClassifier(n_neighbors=i)\n",
    "    kn.fit(X_train,Y_train_encoded)\n",
    "    acc = accuracy_score(Y_test_encoded,kn.predict(X_test))\n",
    "    test_scores.append(acc)"
   ]
  },
  {
   "cell_type": "code",
   "execution_count": 10,
   "metadata": {},
   "outputs": [
    {
     "data": {
      "text/plain": [
       "([<matplotlib.axis.XTick at 0x215c7c277f0>,\n",
       "  <matplotlib.axis.XTick at 0x215c7c27c18>,\n",
       "  <matplotlib.axis.XTick at 0x215c7c32a58>,\n",
       "  <matplotlib.axis.XTick at 0x215ca4525f8>,\n",
       "  <matplotlib.axis.XTick at 0x215ca45a0f0>],\n",
       " <a list of 5 Text xticklabel objects>)"
      ]
     },
     "execution_count": 10,
     "metadata": {},
     "output_type": "execute_result"
    },
    {
     "data": {
      "image/png": "[encoded data removed]",
      "text/plain": [
       "<matplotlib.figure.Figure at 0x215c7c7ebe0>"
      ]
     },
     "metadata": {},
     "output_type": "display_data"
    }
   ],
   "source": [
    "plt.figure(figsize=(10,7))\n",
    "plt.xlabel('Neighbors')\n",
    "plt.ylabel('Accuracy')\n",
    "plt.scatter(range(1,20),test_scores)\n",
    "plt.xticks([0,5,10,15,20])"
   ]
  },
  {
   "cell_type": "markdown",
   "metadata": {},
   "source": [
    "## Training model with 10 neighbors"
   ]
  },
  {
   "cell_type": "code",
   "execution_count": 11,
   "metadata": {},
   "outputs": [
    {
     "name": "stdout",
     "output_type": "stream",
     "text": [
      "K Nearest Neighbors Train Accuracy : 0.9764689880304679\n",
      "K Nearest Neighbors Test Accuracy : 0.9066847641669494\n"
     ]
    }
   ],
   "source": [
    "kn = KNeighborsClassifier(n_neighbors=10)\n",
    "kn.fit(X_train,Y_train_encoded)\n",
    "print (\"K Nearest Neighbors Train Accuracy : {}\".format(accuracy_score(Y_train_encoded,kn.predict(X_train))))\n",
    "print (\"K Nearest Neighbors Test Accuracy : {}\".format(accuracy_score(Y_test_encoded,kn.predict(X_test))))"
   ]
  },
  {
   "cell_type": "code",
   "execution_count": 12,
   "metadata": {},
   "outputs": [
    {
     "data": {
      "text/html": [
       "<div>\n",
       "<style>\n",
       "    .dataframe thead tr:only-child th {\n",
       "        text-align: right;\n",
       "    }\n",
       "\n",
       "    .dataframe thead th {\n",
       "        text-align: left;\n",
       "    }\n",
       "\n",
       "    .dataframe tbody tr th {\n",
       "        vertical-align: top;\n",
       "    }\n",
       "</style>\n",
       "<table border=\"1\" class=\"dataframe\">\n",
       "  <thead>\n",
       "    <tr style=\"text-align: right;\">\n",
       "      <th></th>\n",
       "      <th>angle(X,gravityMean)</th>\n",
       "      <th>tGravityAcc-min()-X</th>\n",
       "      <th>tGravityAcc-mean()-Y</th>\n",
       "      <th>tGravityAcc-mean()-X</th>\n",
       "      <th>tBodyAcc-mad()-X</th>\n",
       "    </tr>\n",
       "  </thead>\n",
       "  <tbody>\n",
       "    <tr>\n",
       "      <th>0</th>\n",
       "      <td>-0.841247</td>\n",
       "      <td>0.977436</td>\n",
       "      <td>-0.140840</td>\n",
       "      <td>0.963396</td>\n",
       "      <td>-0.995112</td>\n",
       "    </tr>\n",
       "    <tr>\n",
       "      <th>1</th>\n",
       "      <td>-0.844788</td>\n",
       "      <td>0.984520</td>\n",
       "      <td>-0.141551</td>\n",
       "      <td>0.966561</td>\n",
       "      <td>-0.998807</td>\n",
       "    </tr>\n",
       "    <tr>\n",
       "      <th>2</th>\n",
       "      <td>-0.848933</td>\n",
       "      <td>0.986770</td>\n",
       "      <td>-0.142010</td>\n",
       "      <td>0.966878</td>\n",
       "      <td>-0.996520</td>\n",
       "    </tr>\n",
       "    <tr>\n",
       "      <th>3</th>\n",
       "      <td>-0.848649</td>\n",
       "      <td>0.986821</td>\n",
       "      <td>-0.143976</td>\n",
       "      <td>0.967615</td>\n",
       "      <td>-0.997099</td>\n",
       "    </tr>\n",
       "    <tr>\n",
       "      <th>4</th>\n",
       "      <td>-0.847865</td>\n",
       "      <td>0.987434</td>\n",
       "      <td>-0.148750</td>\n",
       "      <td>0.968224</td>\n",
       "      <td>-0.998321</td>\n",
       "    </tr>\n",
       "  </tbody>\n",
       "</table>\n",
       "</div>"
      ],
      "text/plain": [
       "   angle(X,gravityMean)  tGravityAcc-min()-X  tGravityAcc-mean()-Y  \\\n",
       "0             -0.841247             0.977436             -0.140840   \n",
       "1             -0.844788             0.984520             -0.141551   \n",
       "2             -0.848933             0.986770             -0.142010   \n",
       "3             -0.848649             0.986821             -0.143976   \n",
       "4             -0.847865             0.987434             -0.148750   \n",
       "\n",
       "   tGravityAcc-mean()-X  tBodyAcc-mad()-X  \n",
       "0              0.963396         -0.995112  \n",
       "1              0.966561         -0.998807  \n",
       "2              0.966878         -0.996520  \n",
       "3              0.967615         -0.997099  \n",
       "4              0.968224         -0.998321  "
      ]
     },
     "execution_count": 12,
     "metadata": {},
     "output_type": "execute_result"
    }
   ],
   "source": [
    "cols = ['angle(X,gravityMean)', 'tGravityAcc-min()-X', 'tGravityAcc-mean()-Y', 'tGravityAcc-mean()-X',\n",
    "        'tBodyAcc-mad()-X']\n",
    "X_train = train[cols]\n",
    "X_test = test[cols]\n",
    "X_train.head()"
   ]
  },
  {
   "cell_type": "code",
   "execution_count": 13,
   "metadata": {},
   "outputs": [
    {
     "name": "stdout",
     "output_type": "stream",
     "text": [
      "K Nearest Neighbors Train Accuracy : 0.9534820457018498\n",
      "K Nearest Neighbors Test Accuracy : 0.6963013233797082\n"
     ]
    }
   ],
   "source": [
    "knn = KNeighborsClassifier()\n",
    "knn.fit(X_train,Y_train_encoded)\n",
    "print (\"K Nearest Neighbors Train Accuracy : {}\".format(accuracy_score(Y_train_encoded,knn.predict(X_train))))\n",
    "print (\"K Nearest Neighbors Test Accuracy : {}\".format(accuracy_score(Y_test_encoded,knn.predict(X_test))))"
   ]
  },
  {
   "cell_type": "code",
   "execution_count": 14,
   "metadata": {},
   "outputs": [
    {
     "data": {
      "text/html": [
       "<div>\n",
       "<style>\n",
       "    .dataframe thead tr:only-child th {\n",
       "        text-align: right;\n",
       "    }\n",
       "\n",
       "    .dataframe thead th {\n",
       "        text-align: left;\n",
       "    }\n",
       "\n",
       "    .dataframe tbody tr th {\n",
       "        vertical-align: top;\n",
       "    }\n",
       "</style>\n",
       "<table border=\"1\" class=\"dataframe\">\n",
       "  <thead>\n",
       "    <tr style=\"text-align: right;\">\n",
       "      <th></th>\n",
       "      <th>tBodyAcc-mean()-X</th>\n",
       "      <th>tBodyAcc-mean()-Y</th>\n",
       "      <th>tBodyAcc-mean()-Z</th>\n",
       "      <th>tBodyAcc-std()-X</th>\n",
       "      <th>tBodyAcc-std()-Y</th>\n",
       "      <th>tBodyAcc-std()-Z</th>\n",
       "      <th>tBodyAcc-mad()-X</th>\n",
       "      <th>tBodyAcc-mad()-Y</th>\n",
       "      <th>tBodyAcc-mad()-Z</th>\n",
       "      <th>tBodyAcc-max()-X</th>\n",
       "      <th>...</th>\n",
       "      <th>fBodyBodyGyroJerkMag-kurtosis()</th>\n",
       "      <th>angle(tBodyAccMean,gravity)</th>\n",
       "      <th>angle(tBodyAccJerkMean),gravityMean)</th>\n",
       "      <th>angle(tBodyGyroMean,gravityMean)</th>\n",
       "      <th>angle(tBodyGyroJerkMean,gravityMean)</th>\n",
       "      <th>angle(X,gravityMean)</th>\n",
       "      <th>angle(Y,gravityMean)</th>\n",
       "      <th>angle(Z,gravityMean)</th>\n",
       "      <th>subject</th>\n",
       "      <th>Activity</th>\n",
       "    </tr>\n",
       "  </thead>\n",
       "  <tbody>\n",
       "    <tr>\n",
       "      <th>count</th>\n",
       "      <td>7352.000000</td>\n",
       "      <td>7352.000000</td>\n",
       "      <td>7352.000000</td>\n",
       "      <td>7352.000000</td>\n",
       "      <td>7352.000000</td>\n",
       "      <td>7352.000000</td>\n",
       "      <td>7352.000000</td>\n",
       "      <td>7352.000000</td>\n",
       "      <td>7352.000000</td>\n",
       "      <td>7352.000000</td>\n",
       "      <td>...</td>\n",
       "      <td>7352.000000</td>\n",
       "      <td>7352.000000</td>\n",
       "      <td>7352.000000</td>\n",
       "      <td>7352.000000</td>\n",
       "      <td>7352.000000</td>\n",
       "      <td>7352.000000</td>\n",
       "      <td>7352.000000</td>\n",
       "      <td>7352.000000</td>\n",
       "      <td>7352.000000</td>\n",
       "      <td>7352</td>\n",
       "    </tr>\n",
       "    <tr>\n",
       "      <th>unique</th>\n",
       "      <td>NaN</td>\n",
       "      <td>NaN</td>\n",
       "      <td>NaN</td>\n",
       "      <td>NaN</td>\n",
       "      <td>NaN</td>\n",
       "      <td>NaN</td>\n",
       "      <td>NaN</td>\n",
       "      <td>NaN</td>\n",
       "      <td>NaN</td>\n",
       "      <td>NaN</td>\n",
       "      <td>...</td>\n",
       "      <td>NaN</td>\n",
       "      <td>NaN</td>\n",
       "      <td>NaN</td>\n",
       "      <td>NaN</td>\n",
       "      <td>NaN</td>\n",
       "      <td>NaN</td>\n",
       "      <td>NaN</td>\n",
       "      <td>NaN</td>\n",
       "      <td>NaN</td>\n",
       "      <td>6</td>\n",
       "    </tr>\n",
       "    <tr>\n",
       "      <th>top</th>\n",
       "      <td>NaN</td>\n",
       "      <td>NaN</td>\n",
       "      <td>NaN</td>\n",
       "      <td>NaN</td>\n",
       "      <td>NaN</td>\n",
       "      <td>NaN</td>\n",
       "      <td>NaN</td>\n",
       "      <td>NaN</td>\n",
       "      <td>NaN</td>\n",
       "      <td>NaN</td>\n",
       "      <td>...</td>\n",
       "      <td>NaN</td>\n",
       "      <td>NaN</td>\n",
       "      <td>NaN</td>\n",
       "      <td>NaN</td>\n",
       "      <td>NaN</td>\n",
       "      <td>NaN</td>\n",
       "      <td>NaN</td>\n",
       "      <td>NaN</td>\n",
       "      <td>NaN</td>\n",
       "      <td>LAYING</td>\n",
       "    </tr>\n",
       "    <tr>\n",
       "      <th>freq</th>\n",
       "      <td>NaN</td>\n",
       "      <td>NaN</td>\n",
       "      <td>NaN</td>\n",
       "      <td>NaN</td>\n",
       "      <td>NaN</td>\n",
       "      <td>NaN</td>\n",
       "      <td>NaN</td>\n",
       "      <td>NaN</td>\n",
       "      <td>NaN</td>\n",
       "      <td>NaN</td>\n",
       "      <td>...</td>\n",
       "      <td>NaN</td>\n",
       "      <td>NaN</td>\n",
       "      <td>NaN</td>\n",
       "      <td>NaN</td>\n",
       "      <td>NaN</td>\n",
       "      <td>NaN</td>\n",
       "      <td>NaN</td>\n",
       "      <td>NaN</td>\n",
       "      <td>NaN</td>\n",
       "      <td>1407</td>\n",
       "    </tr>\n",
       "    <tr>\n",
       "      <th>mean</th>\n",
       "      <td>0.274488</td>\n",
       "      <td>-0.017695</td>\n",
       "      <td>-0.109141</td>\n",
       "      <td>-0.605438</td>\n",
       "      <td>-0.510938</td>\n",
       "      <td>-0.604754</td>\n",
       "      <td>-0.630512</td>\n",
       "      <td>-0.526907</td>\n",
       "      <td>-0.606150</td>\n",
       "      <td>-0.468604</td>\n",
       "      <td>...</td>\n",
       "      <td>-0.625294</td>\n",
       "      <td>0.008684</td>\n",
       "      <td>0.002186</td>\n",
       "      <td>0.008726</td>\n",
       "      <td>-0.005981</td>\n",
       "      <td>-0.489547</td>\n",
       "      <td>0.058593</td>\n",
       "      <td>-0.056515</td>\n",
       "      <td>17.413085</td>\n",
       "      <td>NaN</td>\n",
       "    </tr>\n",
       "    <tr>\n",
       "      <th>std</th>\n",
       "      <td>0.070261</td>\n",
       "      <td>0.040811</td>\n",
       "      <td>0.056635</td>\n",
       "      <td>0.448734</td>\n",
       "      <td>0.502645</td>\n",
       "      <td>0.418687</td>\n",
       "      <td>0.424073</td>\n",
       "      <td>0.485942</td>\n",
       "      <td>0.414122</td>\n",
       "      <td>0.544547</td>\n",
       "      <td>...</td>\n",
       "      <td>0.307584</td>\n",
       "      <td>0.336787</td>\n",
       "      <td>0.448306</td>\n",
       "      <td>0.608303</td>\n",
       "      <td>0.477975</td>\n",
       "      <td>0.511807</td>\n",
       "      <td>0.297480</td>\n",
       "      <td>0.279122</td>\n",
       "      <td>8.975143</td>\n",
       "      <td>NaN</td>\n",
       "    </tr>\n",
       "    <tr>\n",
       "      <th>min</th>\n",
       "      <td>-1.000000</td>\n",
       "      <td>-1.000000</td>\n",
       "      <td>-1.000000</td>\n",
       "      <td>-1.000000</td>\n",
       "      <td>-0.999873</td>\n",
       "      <td>-1.000000</td>\n",
       "      <td>-1.000000</td>\n",
       "      <td>-1.000000</td>\n",
       "      <td>-1.000000</td>\n",
       "      <td>-1.000000</td>\n",
       "      <td>...</td>\n",
       "      <td>-0.999765</td>\n",
       "      <td>-0.976580</td>\n",
       "      <td>-1.000000</td>\n",
       "      <td>-1.000000</td>\n",
       "      <td>-1.000000</td>\n",
       "      <td>-1.000000</td>\n",
       "      <td>-1.000000</td>\n",
       "      <td>-1.000000</td>\n",
       "      <td>1.000000</td>\n",
       "      <td>NaN</td>\n",
       "    </tr>\n",
       "    <tr>\n",
       "      <th>25%</th>\n",
       "      <td>0.262975</td>\n",
       "      <td>-0.024863</td>\n",
       "      <td>-0.120993</td>\n",
       "      <td>-0.992754</td>\n",
       "      <td>-0.978129</td>\n",
       "      <td>-0.980233</td>\n",
       "      <td>-0.993591</td>\n",
       "      <td>-0.978162</td>\n",
       "      <td>-0.980251</td>\n",
       "      <td>-0.936219</td>\n",
       "      <td>...</td>\n",
       "      <td>-0.845573</td>\n",
       "      <td>-0.121527</td>\n",
       "      <td>-0.289549</td>\n",
       "      <td>-0.482273</td>\n",
       "      <td>-0.376341</td>\n",
       "      <td>-0.812065</td>\n",
       "      <td>-0.017885</td>\n",
       "      <td>-0.143414</td>\n",
       "      <td>8.000000</td>\n",
       "      <td>NaN</td>\n",
       "    </tr>\n",
       "    <tr>\n",
       "      <th>50%</th>\n",
       "      <td>0.277193</td>\n",
       "      <td>-0.017219</td>\n",
       "      <td>-0.108676</td>\n",
       "      <td>-0.946196</td>\n",
       "      <td>-0.851897</td>\n",
       "      <td>-0.859365</td>\n",
       "      <td>-0.950709</td>\n",
       "      <td>-0.857328</td>\n",
       "      <td>-0.857143</td>\n",
       "      <td>-0.881637</td>\n",
       "      <td>...</td>\n",
       "      <td>-0.711692</td>\n",
       "      <td>0.009509</td>\n",
       "      <td>0.008943</td>\n",
       "      <td>0.008735</td>\n",
       "      <td>-0.000368</td>\n",
       "      <td>-0.709417</td>\n",
       "      <td>0.182071</td>\n",
       "      <td>0.003181</td>\n",
       "      <td>19.000000</td>\n",
       "      <td>NaN</td>\n",
       "    </tr>\n",
       "    <tr>\n",
       "      <th>75%</th>\n",
       "      <td>0.288461</td>\n",
       "      <td>-0.010783</td>\n",
       "      <td>-0.097794</td>\n",
       "      <td>-0.242813</td>\n",
       "      <td>-0.034231</td>\n",
       "      <td>-0.262415</td>\n",
       "      <td>-0.292680</td>\n",
       "      <td>-0.066701</td>\n",
       "      <td>-0.265671</td>\n",
       "      <td>-0.017129</td>\n",
       "      <td>...</td>\n",
       "      <td>-0.503878</td>\n",
       "      <td>0.150865</td>\n",
       "      <td>0.292861</td>\n",
       "      <td>0.506187</td>\n",
       "      <td>0.359368</td>\n",
       "      <td>-0.509079</td>\n",
       "      <td>0.248353</td>\n",
       "      <td>0.107659</td>\n",
       "      <td>26.000000</td>\n",
       "      <td>NaN</td>\n",
       "    </tr>\n",
       "    <tr>\n",
       "      <th>max</th>\n",
       "      <td>1.000000</td>\n",
       "      <td>1.000000</td>\n",
       "      <td>1.000000</td>\n",
       "      <td>1.000000</td>\n",
       "      <td>0.916238</td>\n",
       "      <td>1.000000</td>\n",
       "      <td>1.000000</td>\n",
       "      <td>0.967664</td>\n",
       "      <td>1.000000</td>\n",
       "      <td>1.000000</td>\n",
       "      <td>...</td>\n",
       "      <td>0.956845</td>\n",
       "      <td>1.000000</td>\n",
       "      <td>1.000000</td>\n",
       "      <td>0.998702</td>\n",
       "      <td>0.996078</td>\n",
       "      <td>1.000000</td>\n",
       "      <td>0.478157</td>\n",
       "      <td>1.000000</td>\n",
       "      <td>30.000000</td>\n",
       "      <td>NaN</td>\n",
       "    </tr>\n",
       "  </tbody>\n",
       "</table>\n",
       "<p>11 rows × 563 columns</p>\n",
       "</div>"
      ],
      "text/plain": [
       "        tBodyAcc-mean()-X  tBodyAcc-mean()-Y  tBodyAcc-mean()-Z  \\\n",
       "count         7352.000000        7352.000000        7352.000000   \n",
       "unique                NaN                NaN                NaN   \n",
       "top                   NaN                NaN                NaN   \n",
       "freq                  NaN                NaN                NaN   \n",
       "mean             0.274488          -0.017695          -0.109141   \n",
       "std              0.070261           0.040811           0.056635   \n",
       "min             -1.000000          -1.000000          -1.000000   \n",
       "25%              0.262975          -0.024863          -0.120993   \n",
       "50%              0.277193          -0.017219          -0.108676   \n",
       "75%              0.288461          -0.010783          -0.097794   \n",
       "max              1.000000           1.000000           1.000000   \n",
       "\n",
       "        tBodyAcc-std()-X  tBodyAcc-std()-Y  tBodyAcc-std()-Z  \\\n",
       "count        7352.000000       7352.000000       7352.000000   \n",
       "unique               NaN               NaN               NaN   \n",
       "top                  NaN               NaN               NaN   \n",
       "freq                 NaN               NaN               NaN   \n",
       "mean           -0.605438         -0.510938         -0.604754   \n",
       "std             0.448734          0.502645          0.418687   \n",
       "min            -1.000000         -0.999873         -1.000000   \n",
       "25%            -0.992754         -0.978129         -0.980233   \n",
       "50%            -0.946196         -0.851897         -0.859365   \n",
       "75%            -0.242813         -0.034231         -0.262415   \n",
       "max             1.000000          0.916238          1.000000   \n",
       "\n",
       "        tBodyAcc-mad()-X  tBodyAcc-mad()-Y  tBodyAcc-mad()-Z  \\\n",
       "count        7352.000000       7352.000000       7352.000000   \n",
       "unique               NaN               NaN               NaN   \n",
       "top                  NaN               NaN               NaN   \n",
       "freq                 NaN               NaN               NaN   \n",
       "mean           -0.630512         -0.526907         -0.606150   \n",
       "std             0.424073          0.485942          0.414122   \n",
       "min            -1.000000         -1.000000         -1.000000   \n",
       "25%            -0.993591         -0.978162         -0.980251   \n",
       "50%            -0.950709         -0.857328         -0.857143   \n",
       "75%            -0.292680         -0.066701         -0.265671   \n",
       "max             1.000000          0.967664          1.000000   \n",
       "\n",
       "        tBodyAcc-max()-X    ...     fBodyBodyGyroJerkMag-kurtosis()  \\\n",
       "count        7352.000000    ...                         7352.000000   \n",
       "unique               NaN    ...                                 NaN   \n",
       "top                  NaN    ...                                 NaN   \n",
       "freq                 NaN    ...                                 NaN   \n",
       "mean           -0.468604    ...                           -0.625294   \n",
       "std             0.544547    ...                            0.307584   \n",
       "min            -1.000000    ...                           -0.999765   \n",
       "25%            -0.936219    ...                           -0.845573   \n",
       "50%            -0.881637    ...                           -0.711692   \n",
       "75%            -0.017129    ...                           -0.503878   \n",
       "max             1.000000    ...                            0.956845   \n",
       "\n",
       "        angle(tBodyAccMean,gravity)  angle(tBodyAccJerkMean),gravityMean)  \\\n",
       "count                   7352.000000                           7352.000000   \n",
       "unique                          NaN                                   NaN   \n",
       "top                             NaN                                   NaN   \n",
       "freq                            NaN                                   NaN   \n",
       "mean                       0.008684                              0.002186   \n",
       "std                        0.336787                              0.448306   \n",
       "min                       -0.976580                             -1.000000   \n",
       "25%                       -0.121527                             -0.289549   \n",
       "50%                        0.009509                              0.008943   \n",
       "75%                        0.150865                              0.292861   \n",
       "max                        1.000000                              1.000000   \n",
       "\n",
       "        angle(tBodyGyroMean,gravityMean)  \\\n",
       "count                        7352.000000   \n",
       "unique                               NaN   \n",
       "top                                  NaN   \n",
       "freq                                 NaN   \n",
       "mean                            0.008726   \n",
       "std                             0.608303   \n",
       "min                            -1.000000   \n",
       "25%                            -0.482273   \n",
       "50%                             0.008735   \n",
       "75%                             0.506187   \n",
       "max                             0.998702   \n",
       "\n",
       "        angle(tBodyGyroJerkMean,gravityMean)  angle(X,gravityMean)  \\\n",
       "count                            7352.000000           7352.000000   \n",
       "unique                                   NaN                   NaN   \n",
       "top                                      NaN                   NaN   \n",
       "freq                                     NaN                   NaN   \n",
       "mean                               -0.005981             -0.489547   \n",
       "std                                 0.477975              0.511807   \n",
       "min                                -1.000000             -1.000000   \n",
       "25%                                -0.376341             -0.812065   \n",
       "50%                                -0.000368             -0.709417   \n",
       "75%                                 0.359368             -0.509079   \n",
       "max                                 0.996078              1.000000   \n",
       "\n",
       "        angle(Y,gravityMean)  angle(Z,gravityMean)      subject  Activity  \n",
       "count            7352.000000           7352.000000  7352.000000      7352  \n",
       "unique                   NaN                   NaN          NaN         6  \n",
       "top                      NaN                   NaN          NaN    LAYING  \n",
       "freq                     NaN                   NaN          NaN      1407  \n",
       "mean                0.058593             -0.056515    17.413085       NaN  \n",
       "std                 0.297480              0.279122     8.975143       NaN  \n",
       "min                -1.000000             -1.000000     1.000000       NaN  \n",
       "25%                -0.017885             -0.143414     8.000000       NaN  \n",
       "50%                 0.182071              0.003181    19.000000       NaN  \n",
       "75%                 0.248353              0.107659    26.000000       NaN  \n",
       "max                 0.478157              1.000000    30.000000       NaN  \n",
       "\n",
       "[11 rows x 563 columns]"
      ]
     },
     "execution_count": 14,
     "metadata": {},
     "output_type": "execute_result"
    }
   ],
   "source": [
    "train.describe(include='all')"
   ]
  },
  {
   "cell_type": "markdown",
   "metadata": {},
   "source": [
    "## PCA"
   ]
  },
  {
   "cell_type": "code",
   "execution_count": 15,
   "metadata": {},
   "outputs": [
    {
     "name": "stdout",
     "output_type": "stream",
     "text": [
      "(7352, 561) (7352, 10)\n",
      "(2947, 561) (2947, 10)\n"
     ]
    }
   ],
   "source": [
    "from sklearn.decomposition import PCA\n",
    "X_train = train.iloc[:,:-2]\n",
    "X_test = test.iloc[:,:-2]\n",
    "pca = PCA(n_components=10)\n",
    "pca.fit(X_train)\n",
    "X_train_pca = pca.transform(X_train)\n",
    "X_test_pca = pca.transform(X_test)\n",
    "print(X_train.shape,X_train_pca.shape)\n",
    "print(X_test.shape,X_test_pca.shape)"
   ]
  },
  {
   "cell_type": "code",
   "execution_count": 16,
   "metadata": {},
   "outputs": [
    {
     "name": "stdout",
     "output_type": "stream",
     "text": [
      "K Nearest Neighbors Train Accuracy : 0.9392002176278563\n",
      "K Nearest Neighbors Test Accuracy : 0.8428910756701731\n"
     ]
    }
   ],
   "source": [
    "knn = KNeighborsClassifier().fit(X_train_pca,Y_train_encoded)\n",
    "print (\"K Nearest Neighbors Train Accuracy : {}\".format(accuracy_score(Y_train_encoded,knn.predict(X_train_pca))))\n",
    "print (\"K Nearest Neighbors Test Accuracy : {}\".format(accuracy_score(Y_test_encoded,knn.predict(X_test_pca))))"
   ]
  },
  {
   "cell_type": "code",
   "execution_count": 17,
   "metadata": {},
   "outputs": [
    {
     "name": "stdout",
     "output_type": "stream",
     "text": [
      "10 : 0.8428910756701731\n",
      "20 : 0.8595181540549711\n",
      "30 : 0.8727519511367492\n",
      "40 : 0.8768238887003733\n",
      "50 : 0.8849677638276213\n",
      "60 : 0.8900576857821514\n",
      "70 : 0.8944689514760774\n",
      "80 : 0.8944689514760774\n",
      "90 : 0.8941296233457754\n",
      "100 : 0.8954869358669834\n",
      "110 : 0.8988802171700034\n",
      "120 : 0.8998982015609094\n",
      "130 : 0.9005768578215134\n",
      "140 : 0.9012555140821175\n",
      "150 : 0.9015948422124194\n",
      "160 : 0.9019341703427214\n",
      "170 : 0.9026128266033254\n",
      "180 : 0.9026128266033254\n",
      "190 : 0.9015948422124194\n",
      "200 : 0.9005768578215134\n",
      "210 : 0.9012555140821175\n",
      "220 : 0.9002375296912114\n",
      "230 : 0.9002375296912114\n",
      "240 : 0.9002375296912114\n",
      "250 : 0.9009161859518154\n"
     ]
    }
   ],
   "source": [
    "r = range(10,251,10)\n",
    "pca_scores = []\n",
    "for i in r:\n",
    "    pca = PCA(n_components=i,random_state=0).fit(X_train)\n",
    "    X_train_pca = pca.transform(X_train)\n",
    "    X_test_pca = pca.transform(X_test)\n",
    "    knn = KNeighborsClassifier().fit(X_train_pca,Y_train_encoded)\n",
    "    acc = accuracy_score(Y_test_encoded,knn.predict(X_test_pca))\n",
    "    pca_scores.append(acc)\n",
    "    print(\"{} : {}\".format(i,acc))"
   ]
  },
  {
   "cell_type": "code",
   "execution_count": 18,
   "metadata": {},
   "outputs": [
    {
     "data": {
      "text/plain": [
       "([<matplotlib.axis.XTick at 0x215c3ed75f8>,\n",
       "  <matplotlib.axis.XTick at 0x215cf7fba20>,\n",
       "  <matplotlib.axis.XTick at 0x215cf804630>,\n",
       "  <matplotlib.axis.XTick at 0x215cf953e10>,\n",
       "  <matplotlib.axis.XTick at 0x215cf959908>,\n",
       "  <matplotlib.axis.XTick at 0x215cf95f400>,\n",
       "  <matplotlib.axis.XTick at 0x215cf95fdd8>,\n",
       "  <matplotlib.axis.XTick at 0x215cf9668d0>,\n",
       "  <matplotlib.axis.XTick at 0x215cf96f3c8>,\n",
       "  <matplotlib.axis.XTick at 0x215cf96fe80>,\n",
       "  <matplotlib.axis.XTick at 0x215cf834978>,\n",
       "  <matplotlib.axis.XTick at 0x215cf838470>,\n",
       "  <matplotlib.axis.XTick at 0x215cf838f28>,\n",
       "  <matplotlib.axis.XTick at 0x215cf83fa20>,\n",
       "  <matplotlib.axis.XTick at 0x215cf844518>,\n",
       "  <matplotlib.axis.XTick at 0x215cf844fd0>,\n",
       "  <matplotlib.axis.XTick at 0x215cf84cac8>,\n",
       "  <matplotlib.axis.XTick at 0x215cf8535c0>,\n",
       "  <matplotlib.axis.XTick at 0x215cf85a0b8>,\n",
       "  <matplotlib.axis.XTick at 0x215cf85ab70>,\n",
       "  <matplotlib.axis.XTick at 0x215cf860668>,\n",
       "  <matplotlib.axis.XTick at 0x215cf865160>,\n",
       "  <matplotlib.axis.XTick at 0x215cf865c18>,\n",
       "  <matplotlib.axis.XTick at 0x215cf86c710>,\n",
       "  <matplotlib.axis.XTick at 0x215cf883208>],\n",
       " <a list of 25 Text xticklabel objects>)"
      ]
     },
     "execution_count": 18,
     "metadata": {},
     "output_type": "execute_result"
    },
    {
     "data": {
      "image/png": "[encoded data removed]",
      "text/plain": [
       "<matplotlib.figure.Figure at 0x215ca4e6a20>"
      ]
     },
     "metadata": {},
     "output_type": "display_data"
    }
   ],
   "source": [
    "plt.figure(figsize=(10,10))\n",
    "plt.xlabel('n_components in PCA')\n",
    "plt.ylabel('Accuracy')\n",
    "plt.scatter(range(10,260,10),pca_scores)\n",
    "plt.xticks(range(10,260,10))"
   ]
  },
  {
   "cell_type": "code",
   "execution_count": 19,
   "metadata": {},
   "outputs": [
    {
     "name": "stdout",
     "output_type": "stream",
     "text": [
      "K Nearest Neighbors Train Accuracy : 0.9840859630032645\n",
      "K Nearest Neighbors Test Accuracy : 0.9026128266033254\n"
     ]
    }
   ],
   "source": [
    "pca = PCA(n_components=170,random_state=0).fit(X_train)\n",
    "X_train_pca = pca.transform(X_train)\n",
    "X_test_pca = pca.transform(X_test)\n",
    "knn = KNeighborsClassifier().fit(X_train_pca,Y_train_encoded)\n",
    "print (\"K Nearest Neighbors Train Accuracy : {}\".format(accuracy_score(Y_train_encoded,knn.predict(X_train_pca))))\n",
    "print (\"K Nearest Neighbors Test Accuracy : {}\".format(accuracy_score(Y_test_encoded,knn.predict(X_test_pca))))"
   ]
  },
  {
   "cell_type": "code",
   "execution_count": 20,
   "metadata": {},
   "outputs": [
    {
     "name": "stdout",
     "output_type": "stream",
     "text": [
      "1 : 0.8775025449609772\n",
      "2 : 0.8666440447913132\n",
      "3 : 0.8934509670851714\n",
      "4 : 0.8954869358669834\n",
      "5 : 0.9026128266033254\n",
      "6 : 0.9012555140821175\n",
      "7 : 0.9022734984730234\n",
      "8 : 0.9056667797760435\n",
      "9 : 0.9043094672548354\n",
      "10 : 0.9056667797760435\n",
      "11 : 0.9032914828639295\n",
      "12 : 0.9026128266033254\n",
      "13 : 0.9036308109942314\n",
      "14 : 0.9060061079063454\n",
      "15 : 0.9039701391245334\n",
      "16 : 0.9063454360366474\n",
      "17 : 0.9080420766881574\n",
      "18 : 0.9070240922972514\n",
      "19 : 0.9053274516457415\n"
     ]
    }
   ],
   "source": [
    "pca_test_scores = []\n",
    "for i in range(1,20):\n",
    "    kn = KNeighborsClassifier(n_neighbors=i)\n",
    "    kn.fit(X_train_pca,Y_train_encoded)\n",
    "    acc = accuracy_score(Y_test_encoded,kn.predict(X_test_pca))\n",
    "    pca_test_scores.append(acc)\n",
    "    print(\"{} : {}\".format(i,acc))"
   ]
  },
  {
   "cell_type": "code",
   "execution_count": 21,
   "metadata": {},
   "outputs": [
    {
     "data": {
      "text/plain": [
       "([<matplotlib.axis.XTick at 0x215ca4d4780>,\n",
       "  <matplotlib.axis.XTick at 0x215ca490748>,\n",
       "  <matplotlib.axis.XTick at 0x215cf804d68>,\n",
       "  <matplotlib.axis.XTick at 0x215c9e6abe0>],\n",
       " <a list of 4 Text xticklabel objects>)"
      ]
     },
     "execution_count": 21,
     "metadata": {},
     "output_type": "execute_result"
    },
    {
     "data": {
      "image/png": "[encoded data removed]",
      "text/plain": [
       "<matplotlib.figure.Figure at 0x215cf8389b0>"
      ]
     },
     "metadata": {},
     "output_type": "display_data"
    }
   ],
   "source": [
    "plt.figure(figsize=(10,7))\n",
    "plt.xlabel('neighbors in PCA')\n",
    "plt.ylabel('Accuracy')\n",
    "plt.scatter(range(1,20),pca_test_scores)\n",
    "plt.xticks(range(5,21,5))"
   ]
  },
  {
   "cell_type": "markdown",
   "metadata": {},
   "source": [
    "## Training model with 17 neighbors"
   ]
  },
  {
   "cell_type": "code",
   "execution_count": 22,
   "metadata": {},
   "outputs": [
    {
     "name": "stdout",
     "output_type": "stream",
     "text": [
      "K Nearest Neighbors Train Accuracy : 0.9677638737758433\n",
      "K Nearest Neighbors Test Accuracy : 0.9080420766881574\n"
     ]
    }
   ],
   "source": [
    "knn = KNeighborsClassifier(n_neighbors=17)\n",
    "knn.fit(X_train_pca,Y_train_encoded)\n",
    "print (\"K Nearest Neighbors Train Accuracy : {}\".format(accuracy_score(Y_train_encoded,knn.predict(X_train_pca))))\n",
    "print (\"K Nearest Neighbors Test Accuracy : {}\".format(accuracy_score(Y_test_encoded,knn.predict(X_test_pca))))"
   ]
  },
  {
   "cell_type": "code",
   "execution_count": null,
   "metadata": {
    "collapsed": true
   },
   "outputs": [],
   "source": []
  }
 ],
 "metadata": {
  "kernelspec": {
   "display_name": "Python 3",
   "language": "python",
   "name": "python3"
  },
  "language_info": {
   "codemirror_mode": {
    "name": "ipython",
    "version": 3
   },
   "file_extension": ".py",
   "mimetype": "text/x-python",
   "name": "python",
   "nbconvert_exporter": "python",
   "pygments_lexer": "ipython3",
   "version": "3.6.1"
  }
 },
 "nbformat": 4,
 "nbformat_minor": 2
}
